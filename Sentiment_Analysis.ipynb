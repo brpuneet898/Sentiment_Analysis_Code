{
  "cells": [
    {
      "cell_type": "code",
      "execution_count": 3,
      "metadata": {
        "colab": {
          "base_uri": "https://localhost:8080/"
        },
        "id": "YZHNVrjU-XQK",
        "outputId": "643fa303-7360-4a47-832f-dbfd016cd924"
      },
      "outputs": [
        {
          "name": "stdout",
          "output_type": "stream",
          "text": [
            "                                              review sentiments\n",
            "0  i wish would have gotten one earlier love it a...   positive\n",
            "1  i ve learned this lesson again open the packag...    neutral\n",
            "2          it is so slow and lags find better option    neutral\n",
            "3  roller ball stopped working within months of m...    neutral\n",
            "4  i like the color and size but it few days out ...    neutral\n",
            "review        3\n",
            "sentiments    0\n",
            "dtype: int64\n",
            "Accuracy: 0.7082\n",
            "Classification Report:\n",
            "              precision    recall  f1-score   support\n",
            "\n",
            "    negative       1.00      0.01      0.02       315\n",
            "     neutral       0.63      0.56      0.60      1248\n",
            "    positive       0.74      0.92      0.82      1905\n",
            "\n",
            "    accuracy                           0.71      3468\n",
            "   macro avg       0.79      0.50      0.48      3468\n",
            "weighted avg       0.73      0.71      0.67      3468\n",
            "\n"
          ]
        }
      ],
      "source": [
        "import pandas as pd\n",
        "from sklearn.model_selection import train_test_split\n",
        "from sklearn.feature_extraction.text import TfidfVectorizer\n",
        "from sklearn.naive_bayes import MultinomialNB\n",
        "from sklearn.metrics import accuracy_score, classification_report\n",
        "from sklearn.preprocessing import LabelEncoder\n",
        "file_path = 'reviews_sentiment.csv'\n",
        "df = pd.read_csv(file_path)\n",
        "# print(df.head())\n",
        "\n",
        "print(df.isnull().sum())\n",
        "df = df.dropna(subset=['review'])\n",
        "label_encoder = LabelEncoder()\n",
        "df['sentiments'] = label_encoder.fit_transform(df['sentiments'])\n",
        "\n",
        "X = df['review']\n",
        "y = df['sentiments']\n",
        "\n",
        "X_train, X_test, y_train, y_test = train_test_split(X, y, test_size=0.2, random_state=42)\n",
        "\n",
        "tfidf_vectorizer = TfidfVectorizer(max_features=5000, stop_words='english')\n",
        "X_train_tfidf = tfidf_vectorizer.fit_transform(X_train)\n",
        "X_test_tfidf = tfidf_vectorizer.transform(X_test)\n",
        "\n",
        "model = MultinomialNB()\n",
        "model.fit(X_train_tfidf, y_train)\n",
        "\n",
        "y_pred = model.predict(X_test_tfidf)\n",
        "\n",
        "accuracy = accuracy_score(y_test, y_pred)\n",
        "print(f'Accuracy: {accuracy:.4f}')\n",
        "\n",
        "print(\"Classification Report:\")\n",
        "print(classification_report(y_test, y_pred, target_names=label_encoder.classes_))"
      ]
    },
    {
      "cell_type": "code",
      "execution_count": 6,
      "metadata": {
        "colab": {
          "base_uri": "https://localhost:8080/"
        },
        "id": "EokAhJ8y_6MF",
        "outputId": "2884bf2e-2808-472c-a9dc-50546aad6d03"
      },
      "outputs": [
        {
          "name": "stdout",
          "output_type": "stream",
          "text": [
            "Please enter a review: I find the mixture-grinder quite rugged and efficient. A dependable product with value for money.\n",
            "The predicted sentiment is 'positive' with a confidence of 0.6843749165936368.\n"
          ]
        }
      ],
      "source": [
        "import pandas as pd\n",
        "from sklearn.feature_extraction.text import TfidfVectorizer\n",
        "from sklearn.naive_bayes import MultinomialNB\n",
        "from sklearn.preprocessing import LabelEncoder\n",
        "\n",
        "file_path = 'reviews_sentiment.csv'\n",
        "df = pd.read_csv(file_path)\n",
        "\n",
        "df = df.dropna(subset=['review'])\n",
        "label_encoder = LabelEncoder()\n",
        "df['sentiments'] = label_encoder.fit_transform(df['sentiments'])\n",
        "\n",
        "X = df['review']\n",
        "y = df['sentiments']\n",
        "\n",
        "tfidf_vectorizer = TfidfVectorizer(max_features=5000, stop_words='english')\n",
        "X_tfidf = tfidf_vectorizer.fit_transform(X)\n",
        "\n",
        "model = MultinomialNB()\n",
        "model.fit(X_tfidf, y)\n",
        "\n",
        "def predict_sentiment(review_text):\n",
        "    review_tfidf = tfidf_vectorizer.transform([review_text])\n",
        "    predicted_class = model.predict(review_tfidf)\n",
        "    predicted_prob = model.predict_proba(review_tfidf)\n",
        "    predicted_label = label_encoder.inverse_transform(predicted_class)[0]\n",
        "    confidence = max(predicted_prob[0])\n",
        "    return predicted_label, confidence\n",
        "\n",
        "user_review = input(\"Review: \")\n",
        "predicted_sentiment, prediction_confidence = predict_sentiment(user_review)\n",
        "print(f\"The predicted sentiment is '{predicted_sentiment}' with a confidence of {prediction_confidence}.\")"
      ]
    }
  ],
  "metadata": {
    "colab": {
      "provenance": []
    },
    "kernelspec": {
      "display_name": "Python 3",
      "name": "python3"
    },
    "language_info": {
      "name": "python"
    }
  },
  "nbformat": 4,
  "nbformat_minor": 0
}
